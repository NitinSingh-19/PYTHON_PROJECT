{
 "cells": [
  {
   "cell_type": "code",
   "execution_count": 6,
   "id": "5229df39",
   "metadata": {},
   "outputs": [],
   "source": [
    "import pandas as pd\n",
    "from datasets import load_dataset\n",
    "import matplotlib as plt\n",
    "\n",
    "dataset=load_dataset('Lukebarousse/data_jobs')\n",
    "df=dataset['train'].to_pandas()\n",
    "\n",
    "df['job_posted_date'] =pd.to_datetime(df['job_posted_date'])"
   ]
  },
  {
   "cell_type": "code",
   "execution_count": 17,
   "id": "dd8fec74",
   "metadata": {},
   "outputs": [],
   "source": [
    "median_salary_year=df['salary_year_avg'].median()"
   ]
  },
  {
   "cell_type": "code",
   "execution_count": 9,
   "id": "cf8471c5",
   "metadata": {},
   "outputs": [],
   "source": [
    "median_salary_hour=df['salary_hour_avg'].median()"
   ]
  },
  {
   "cell_type": "code",
   "execution_count": 19,
   "id": "d142a607",
   "metadata": {},
   "outputs": [],
   "source": [
    "df_filled=df\n",
    "df_filled['salary_year_avg']=df_filled['salary_year_avg'].fillna(median_salary_year)\n",
    "df_filled['salary_hour_avg']=df_filled['salary_hour_avg'].fillna(median_salary_hour)"
   ]
  },
  {
   "cell_type": "code",
   "execution_count": 28,
   "id": "d6e67be1",
   "metadata": {},
   "outputs": [
    {
     "name": "stdout",
     "output_type": "stream",
     "text": [
      "785741\n",
      "508042\n"
     ]
    }
   ],
   "source": [
    "data_first=df.loc[:]\n",
    "print(len(data_first))\n",
    "data_second=df\n",
    "data_second=data_second.drop_duplicates(subset=['job_title','company_name'])\n",
    "print(len(data_second))"
   ]
  }
 ],
 "metadata": {
  "kernelspec": {
   "display_name": "python_course",
   "language": "python",
   "name": "python3"
  },
  "language_info": {
   "codemirror_mode": {
    "name": "ipython",
    "version": 3
   },
   "file_extension": ".py",
   "mimetype": "text/x-python",
   "name": "python",
   "nbconvert_exporter": "python",
   "pygments_lexer": "ipython3",
   "version": "3.12.7"
  }
 },
 "nbformat": 4,
 "nbformat_minor": 5
}
