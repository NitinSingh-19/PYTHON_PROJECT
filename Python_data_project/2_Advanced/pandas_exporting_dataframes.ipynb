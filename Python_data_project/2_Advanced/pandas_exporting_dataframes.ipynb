{
 "cells": [
  {
   "cell_type": "code",
   "execution_count": 1,
   "id": "fc2b38e7",
   "metadata": {},
   "outputs": [],
   "source": [
    "import pandas as pd\n",
    "from datasets import load_dataset\n",
    "import matplotlib as plt\n",
    "\n",
    "dataset=load_dataset('Lukebarousse/data_jobs')\n",
    "df=dataset['train'].to_pandas()                                                   #code from pandas_concat_dataframe file\n",
    "\n",
    "df['job_posted_date'] =pd.to_datetime(df['job_posted_date'])\n",
    "df['job_posted_month']=df['job_posted_date'].dt.strftime('%b')\n",
    "months=df['job_posted_month'].unique()\n",
    "dict_months={month:df[df['job_posted_month']==month] for month in months}   \n",
    "dict_months['Jan']\n",
    "df_q1=pd.concat([dict_months['Jan'],dict_months['Feb']],ignore_index=True)\n",
    "\n"
   ]
  },
  {
   "cell_type": "code",
   "execution_count": 4,
   "id": "1680cf1c",
   "metadata": {},
   "outputs": [],
   "source": [
    "df_q1.to_csv('quarter_1.csv')"
   ]
  },
  {
   "cell_type": "code",
   "execution_count": 6,
   "id": "47939722",
   "metadata": {},
   "outputs": [],
   "source": [
    "df_q1.to_excel('quarter_1.xlsx')"
   ]
  },
  {
   "cell_type": "code",
   "execution_count": null,
   "id": "4b5643c1",
   "metadata": {},
   "outputs": [],
   "source": []
  }
 ],
 "metadata": {
  "kernelspec": {
   "display_name": "python_course",
   "language": "python",
   "name": "python3"
  },
  "language_info": {
   "codemirror_mode": {
    "name": "ipython",
    "version": 3
   },
   "file_extension": ".py",
   "mimetype": "text/x-python",
   "name": "python",
   "nbconvert_exporter": "python",
   "pygments_lexer": "ipython3",
   "version": "3.12.7"
  }
 },
 "nbformat": 4,
 "nbformat_minor": 5
}
